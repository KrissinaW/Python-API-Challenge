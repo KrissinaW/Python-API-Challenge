


# Dependencies and Setup
import hvplot.pandas
import pandas as pd
import requests

# Import API key
from api_keys import geoapify_key


# Load the CSV file created in Part 1 into a Pandas DataFrame
city_data_df = pd.read_csv("output_data/cities.csv")

# Display sample data
city_data_df.head()





%%capture --no-display
# Configure the map plot
map_plot_1 = city_data_df.hvplot.points("Lng","Lat",size="Humidity",geo = True, tiles = "OSM")     
    
  

# Display the map
map_plot_1





# Narrow down cities that fit criteria and drop any results with null values
ideal_weather_df = city_data_df[
    (city_data_df["Max Temp"] >= 19) & (city_data_df["Max Temp"] <= 28) &\
    (city_data_df["Humidity"] >= 40) & (city_data_df["Humidity"] <= 60) &\
    (city_data_df["Wind Speed"] < 5) &  (city_data_df["Cloudiness"] <=15)
]

# Drop any rows with null values
ideal_weather_df = ideal_weather_df.dropna()

# Display sample data
print(ideal_weather_df)





# Use the Pandas copy function to create DataFrame called hotel_df to store the city, country, coordinates, and humidity
hotel_df = city_data_df[["City", "Country", "Lat", "Lng", "Humidity"]].copy()

# Add an empty column, "Hotel Name," to the DataFrame so you can store the hotel found using the Geoapify API
hotel_df["Hotel Name"] = ""

# Display sample data
hotel_df.head()





# Set parameters to search for a hotel
radius = 10000
params = {
          "categories":"accommodation.hotel",
          "apiKey":geoapify_key
}

# Print a message to follow up the hotel search
print("Starting hotel search")

# Iterate through the hotel_df DataFrame
for index, row in hotel_df.iterrows():
    # get latitude, longitude from the DataFrame
    lat = row["Lat"]
    lng = row["Lng"]
    
    # Add filter and bias parameters with the current city's latitude and longitude to the params dictionary
    params["filter"] = f"circle:{lng},{lat},{radius}"
    params["bias"] = f"proximity:{lng},{lat}"
    
    # Set base URL
    base_url = "https://api.geoapify.com/v2/places"


    # Make and API request using the params dictionaty
    response = requests.get(base_url, params=params)
    
    # Convert the API response to JSON format
    name_address = response.json()
    
    # Grab the first hotel from the results and store the name in the hotel_df DataFrame
    try:
        hotel_df.loc[index, "Hotel Name"] = name_address["features"][0]["properties"]["name"]
    except (KeyError, IndexError):
        # If no hotel is found, set the hotel name as "No hotel found".
        hotel_df.loc[index, "Hotel Name"] = "No hotel found"
        
    # Log the search results
    print(f"{hotel_df.loc[index, 'City']} - nearest hotel: {hotel_df.loc[index, 'Hotel Name']}")

# Display sample data
hotel_df





%%capture --no-display

# Configure the map plot
map_plot_2 = hotel_df.hvplot.points("Lng","Lat",size="Humidity",geo = True, tiles = "OSM",
                                hover_cols=["Lng","Lat","City","Humidity","Hotel Name","Country"],
                                frame_width= 800, frame_height = 600, color = "City")

# Display the map
map_plot_2



